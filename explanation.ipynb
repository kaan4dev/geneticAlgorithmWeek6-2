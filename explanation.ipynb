{
 "cells": [
  {
   "cell_type": "markdown",
   "metadata": {},
   "source": [
    "### 1. **Problem Tanımlaması**\n",
    "   - **Girdiler**: \n",
    "     - Şehirler arasındaki mesafeleri içeren mesafe matrisi.\n",
    "     - Her depo için araç sayısı ve kapasiteleri.\n",
    "   - **Kısıtlar**:\n",
    "     - Her şehir en az bir araç tarafından ziyaret edilmelidir.\n",
    "     - Her araç yalnızca bir depodan hareket eder ve aynı yere geri döner.\n",
    "   - **Amaç Fonksiyonu**:\n",
    "     - Toplam yolculuk mesafesini en aza indirmek."
   ]
  },
  {
   "cell_type": "markdown",
   "metadata": {},
   "source": [
    "### 2. **Model Kurulumu**\n",
    "   - **Mesafe Matrisi**: Şehirler ve depolar arasındaki mesafelerin tanımlanması.\n",
    "   - **Araçların Dağılımı**: Depo başına tahsis edilecek araçların sayısının belirlenmesi.\n",
    "   - **Başlangıç Çözümü**: Rastgele veya belirli bir algoritmayla başlangıç çözümünün oluşturulması.\n"
   ]
  },
  {
   "cell_type": "markdown",
   "metadata": {},
   "source": [
    "### 3. **Optimizasyon Algoritmasının Tasarlanması**\n",
    "   - **Popülasyonun Tanımlanması**: Her birey, araçların şehirleri ziyaret sırasını temsil eden bir rota setidir.\n",
    "   - **Uygunluk Fonksiyonu**: Toplam mesafeyi hesaplayan bir uygunluk fonksiyonu yazılır.\n",
    "   - **Seçilim Mekanizması**: En kısa mesafeyi sağlayan bireylerin bir sonraki nesile aktarılması.\n",
    "   - **Çaprazlama**: Yeni rotaların oluşturulması için bireyler arasında genetik çaprazlama gerçekleştirilir.\n",
    "   - **Mutasyon**: Rastgele değişikliklerle çözümün çeşitlendirilmesi."
   ]
  },
  {
   "cell_type": "markdown",
   "metadata": {},
   "source": [
    "### 4. **Algoritmanın Uygulanması**\n",
    "   - Başlangıç popülasyonu ile algoritma çalıştırılır.\n",
    "   - Belirli bir iterasyon sayısına veya durma kriterine ulaşıldığında algoritma durdurulur.\n",
    "   - Optimum rota ve araç dağılımı elde edilir.\n"
   ]
  },
  {
   "cell_type": "markdown",
   "metadata": {},
   "source": [
    "### 5. **Sonuçların Analizi ve Raporlanması**\n",
    "   - Toplam yolculuk mesafesi ve her aracın rotası raporlanır.\n",
    "   - Çözümler grafiksel olarak görselleştirilir veya tablo olarak sunulur."
   ]
  }
 ],
 "metadata": {
  "language_info": {
   "name": "python"
  }
 },
 "nbformat": 4,
 "nbformat_minor": 2
}
